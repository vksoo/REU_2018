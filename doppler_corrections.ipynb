{
 "cells": [
  {
   "cell_type": "code",
   "execution_count": 1,
   "metadata": {},
   "outputs": [],
   "source": [
    "import numpy as np\n",
    "import astropy as ap\n",
    "import math as m\n",
    "import healpy as hp\n",
    "import pygsm as gs\n",
    "import matplotlib.pyplot as plt"
   ]
  },
  {
   "cell_type": "markdown",
   "metadata": {},
   "source": [
    "2.1 The Local Standard of Rest"
   ]
  },
  {
   "cell_type": "markdown",
   "metadata": {},
   "source": [
    "# Deriving sun's velocity\n",
    "su_rhs,su_rms,su_rss=raw_input(\"Input source's RA:\").split()\n",
    "su_rh=float(su_rhs);su_rm=float(su_rms);su_rs=float(su_rss)\n",
    "su_dds,su_dms,su_dss=raw_input(\"Input source's DEC:\").split()\n",
    "su_dd=float(su_dds);su_dm=float(su_dms);su_ds=float(su_dss)\n",
    "# Convert to hours and degrees\n",
    "su_ra=su_rh+su_rm/60.0+su_rs/3600.0\n",
    "su_dec=su_dd+su_dm/60.0+su_ds/3600.0\n",
    "x0=20.0*np.cos(18.0*np.pi/12.0)*np.cos(30.0*np.pi/180.0)\n",
    "y0=20.0*np.sin(18.0*np.pi/12.0)*np.cos(30.0*np.pi/180.0)\n",
    "z0=20.0*np.sin(30.0*np.pi/180.0)\n",
    "vsun=-x0*np.cos(su_ra*np.pi/12.0)*np.cos(su_dec*np.pi/180.0)-y0*np.sin(su_ra*np.pi/12.0)*np.cos(su_dec*np.pi/180.0)-z0*np.sin(su_dec*np.pi/180.0)\n",
    "print vsun"
   ]
  },
  {
   "cell_type": "code",
   "execution_count": 8,
   "metadata": {},
   "outputs": [
    {
     "name": "stdout",
     "output_type": "stream",
     "text": [
      "Input source's RA:5 34 32\n",
      "Input source's DEC:22 00 52\n"
     ]
    }
   ],
   "source": [
    "v_lsr=220.0                                # km/s\n",
    "v_sun=20.0                                 # km/s\n",
    "\n",
    "# Solar apex RA & DEC; sa = solar apex\n",
    "sa_r=np.array([18.0,3.0,50.2])\n",
    "sa_d=np.array([30.0,0.0,16.8])\n",
    "# Convert to hours and degrees\n",
    "sa_ra=sa_r[0]+sa_r[1]/60.0+sa_r[2]/3600.0\n",
    "sa_dec=sa_d[0]+sa_d[1]/60.0+sa_d[2]/3600.0\n",
    "# Convert to radians\n",
    "rasa=sa_ra*np.pi/12.0\n",
    "decsa=sa_dec*np.pi/180.0\n",
    "\n",
    "# Input source's RA and DEC; so = source\n",
    "so_rhs,so_rms,so_rss=raw_input(\"Input source's RA:\").split()\n",
    "so_rh=float(so_rhs);so_rm=float(so_rms);so_rs=float(so_rss)\n",
    "so_dds,so_dms,so_dss=raw_input(\"Input source's DEC:\").split()\n",
    "so_dd=float(so_dds);so_dm=float(so_dms);so_ds=float(so_dss)\n",
    "# Convert to hours and degrees\n",
    "so_ra=so_rh+so_rm/60.0+so_rs/3600.0\n",
    "so_dec=so_dd+so_dm/60.0+so_ds/3600.0\n",
    "# Convert to radians\n",
    "raso=so_ra*np.pi/12.0\n",
    "decso=so_dec*np.pi/180.0\n",
    "\n",
    "# 5 34 32 # Crab\n",
    "# 22 00 52"
   ]
  },
  {
   "cell_type": "code",
   "execution_count": 9,
   "metadata": {},
   "outputs": [
    {
     "name": "stdout",
     "output_type": "stream",
     "text": [
      "V_sun: 20.0\n",
      "Sun's radial velocity (v_rs): 12.1769002894 km/s\n"
     ]
    }
   ],
   "source": [
    "# Calculate velocity of sun\n",
    "x=np.cos(decsa)*np.cos(rasa)*20.0\n",
    "y=np.cos(decsa)*np.sin(rasa)*20.0\n",
    "z=np.sin(decsa)*20.0\n",
    "v_sun=-x*np.cos(decsa)*np.cos(rasa)-y*np.cos(decsa)*np.sin(rasa)-z*np.sin(decsa)\n",
    "print \"V_sun:\",v_sun*np.sign(v_sun) # To get a positive value, vsun is negative\n",
    "v_rs=v_sun*(np.cos(decsa)*np.cos(decso) \\\n",
    "           *(np.cos(rasa)*np.cos(raso) \\\n",
    "            +np.sin(rasa)*np.sin(raso)) \\\n",
    "            +np.sin(decsa)*np.sin(decso))\n",
    "print \"Sun's radial velocity (v_rs):\",v_rs,\"km/s\"# between -20 to 20 km/s"
   ]
  },
  {
   "cell_type": "code",
   "execution_count": 10,
   "metadata": {},
   "outputs": [
    {
     "name": "stdout",
     "output_type": "stream",
     "text": [
      "Radial heliocentric velocity: 207.823099711 km/s\n"
     ]
    }
   ],
   "source": [
    "v_h=v_lsr-v_rs;print \"Radial heliocentric velocity:\",v_h,\"km/s\""
   ]
  },
  {
   "cell_type": "code",
   "execution_count": null,
   "metadata": {},
   "outputs": [],
   "source": []
  }
 ],
 "metadata": {
  "kernelspec": {
   "display_name": "Python 2",
   "language": "python",
   "name": "python2"
  },
  "language_info": {
   "codemirror_mode": {
    "name": "ipython",
    "version": 2
   },
   "file_extension": ".py",
   "mimetype": "text/x-python",
   "name": "python",
   "nbconvert_exporter": "python",
   "pygments_lexer": "ipython2",
   "version": "2.7.14"
  }
 },
 "nbformat": 4,
 "nbformat_minor": 2
}
